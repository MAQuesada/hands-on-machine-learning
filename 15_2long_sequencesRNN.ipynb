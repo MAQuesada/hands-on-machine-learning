{
 "cells": [
  {
   "attachments": {},
   "cell_type": "markdown",
   "metadata": {},
   "source": [
    "# **Long Sequences**\n"
   ]
  },
  {
   "cell_type": "code",
   "execution_count": 9,
   "metadata": {},
   "outputs": [],
   "source": [
    "import matplotlib.pyplot as plt\n",
    "import numpy as np\n",
    "import tensorflow as tf\n",
    "\n",
    "\n",
    "def generate_time_series(batch_size, n_steps):\n",
    "    \"\"\"This function creates as many time series as requested (via the\n",
    "        batch_size argument), each of length n_steps, and there is just one\n",
    "        value per time step in each series\n",
    "\n",
    "    Returns:\n",
    "        Numpy array:  of shape [batch size, time steps, 1], where\n",
    "        each series is the sum of two sine waves of fixed amplitudes but random\n",
    "        frequencies and phases, plus a bit of noise\n",
    "    \"\"\"\n",
    "    freq1, freq2, offsets1, offsets2 = np.random.rand(4, batch_size, 1)\n",
    "    time = np.linspace(0, 1, n_steps)\n",
    "    series = 0.5 * np.sin((time - offsets1) * (freq1 * 10 + 10))  # wave 1\n",
    "    series += 0.2 * np.sin((time - offsets2) * (freq2 * 20 + 20))  # + wave 2\n",
    "    series += 0.1 * (np.random.rand(batch_size, n_steps) - 0.5)   # + noise\n",
    "    return series[..., np.newaxis].astype(np.float32)\n",
    "\n",
    "\n",
    "def plot_series(series, y=None, y_pred=None, x_label=\"$t$\", y_label=\"$x(t)$\", legend=True):\n",
    "    plt.plot(series, \".-\")\n",
    "    if y is not None:\n",
    "        plt.plot(n_steps, y, \"bo\", label=\"Target\")\n",
    "    if y_pred is not None:\n",
    "        plt.plot(n_steps, y_pred, \"rx\", markersize=10, label=\"Prediction\")\n",
    "    plt.grid(True)\n",
    "    if x_label:\n",
    "        plt.xlabel(x_label, fontsize=16)\n",
    "    if y_label:\n",
    "        plt.ylabel(y_label, fontsize=16, rotation=0)\n",
    "    plt.hlines(0, 0, 100, linewidth=1)\n",
    "    plt.axis([0, n_steps + 1, -1, 1])\n",
    "    if legend and (y or y_pred):\n",
    "        plt.legend(fontsize=14, loc=\"upper left\")\n",
    "\n",
    "\n",
    "def plot_multiple_forecasts(X, Y, Y_pred):\n",
    "    n_steps = X.shape[1]\n",
    "    ahead = Y.shape[1]\n",
    "    plot_series(X[0, :, 0])\n",
    "    plt.plot(np.arange(n_steps, n_steps + ahead), Y[0, :, 0], \"bo-\", label=\"Actual\")\n",
    "    plt.plot(\n",
    "        np.arange(n_steps, n_steps + ahead),\n",
    "        Y_pred[0, :, 0],\n",
    "        \"rx-\", label=\"Forecast\", markersize=10)\n",
    "    plt.axis([0, n_steps + ahead, -1, 1])\n",
    "    plt.legend(fontsize=14)\n",
    "\n",
    "\n",
    "np.random.seed(42)\n",
    "\n",
    "n_steps = 50\n",
    "series = generate_time_series(10000, n_steps + 10)\n",
    "X_train = series[:7000, :n_steps]\n",
    "X_valid = series[7000:9000, :n_steps]\n",
    "X_test = series[9000:, :n_steps]\n",
    "Y = np.empty((10000, n_steps, 10))\n",
    "for step_ahead in range(1, 10 + 1):\n",
    "    Y[..., step_ahead - 1] = series[..., step_ahead:step_ahead + n_steps, 0]\n",
    "Y_train = Y[:7000]\n",
    "Y_valid = Y[7000:9000]\n",
    "Y_test = Y[9000:]\n"
   ]
  },
  {
   "attachments": {},
   "cell_type": "markdown",
   "metadata": {},
   "source": [
    "## Deep RNNs with Layer Norm\n",
    "The following code implements a custom memory\n",
    "cell which will behave like a SimpleRNNCell, except it will also apply\n",
    "`Layer Normalization` at each time step\n"
   ]
  },
  {
   "cell_type": "code",
   "execution_count": 10,
   "metadata": {},
   "outputs": [],
   "source": [
    "from tensorflow import keras\n",
    "from keras.layers import LayerNormalization\n",
    "\n",
    "\n",
    "class LNSimpleRNNCell(keras.layers.Layer):\n",
    "\n",
    "    def __init__(self, units, activation=\"tanh\", **kwargs):\n",
    "        super().__init__(**kwargs)\n",
    "\n",
    "        #  Una celda  debe tener un atributo state_size y un output_size, en simple RNN,\n",
    "        # ambos son iguales al  nuumero de unidades\n",
    "        self.state_size = units\n",
    "        self.output_size = units\n",
    "\n",
    "        # crea una SimpleRNNCell sin función de activación (para realizar la Normalización\n",
    "        # de capas después de la operación lineal pero antes de la función de activación).\n",
    "        self.simple_rnn_cell = keras.layers.SimpleRNNCell(units,\n",
    "                                                          activation=None)\n",
    "        self.layer_norm = LayerNormalization()\n",
    "        self.activation = keras.activations.get(activation)\n",
    "\n",
    "    def get_initial_state(self, inputs=None, batch_size=None, dtype=None):\n",
    "        if inputs is not None:\n",
    "            batch_size = tf.shape(inputs)[0]\n",
    "            dtype = inputs.dtype\n",
    "        return [tf.zeros([batch_size, self.state_size], dtype=dtype)]\n",
    "\n",
    "    # states argument is a list containing one or more tensors. In the case of a simple RNN cell\n",
    "    # it contains a single tensor equalto the outputs of the previous time step,\n",
    "    # but other cells may have multiple state tensors\n",
    "    def call(self, inputs, states):\n",
    "\n",
    "        # the outputs and new_states in simpleRNN are equals\n",
    "        outputs, new_states = self.simple_rnn_cell(inputs, states)\n",
    "        norm_outputs = self.activation(self.layer_norm(outputs))\n",
    "        return norm_outputs, [norm_outputs]\n"
   ]
  },
  {
   "cell_type": "code",
   "execution_count": 11,
   "metadata": {},
   "outputs": [
    {
     "name": "stdout",
     "output_type": "stream",
     "text": [
      "Epoch 1/8\n",
      "219/219 [==============================] - 13s 43ms/step - loss: 0.1818 - last_time_step_mse: 0.1682 - val_loss: 0.0915 - val_last_time_step_mse: 0.0750\n",
      "Epoch 2/8\n",
      "219/219 [==============================] - 9s 42ms/step - loss: 0.0705 - last_time_step_mse: 0.0547 - val_loss: 0.0599 - val_last_time_step_mse: 0.0467\n",
      "Epoch 3/8\n",
      "219/219 [==============================] - 9s 43ms/step - loss: 0.0570 - last_time_step_mse: 0.0443 - val_loss: 0.0528 - val_last_time_step_mse: 0.0403\n",
      "Epoch 4/8\n",
      "219/219 [==============================] - 10s 45ms/step - loss: 0.0522 - last_time_step_mse: 0.0405 - val_loss: 0.0495 - val_last_time_step_mse: 0.0373\n",
      "Epoch 5/8\n",
      "219/219 [==============================] - 9s 39ms/step - loss: 0.0494 - last_time_step_mse: 0.0393 - val_loss: 0.0470 - val_last_time_step_mse: 0.0376\n",
      "Epoch 6/8\n",
      "219/219 [==============================] - 8s 37ms/step - loss: 0.0455 - last_time_step_mse: 0.0357 - val_loss: 0.0436 - val_last_time_step_mse: 0.0337\n",
      "Epoch 7/8\n",
      "219/219 [==============================] - 8s 37ms/step - loss: 0.0419 - last_time_step_mse: 0.0319 - val_loss: 0.0393 - val_last_time_step_mse: 0.0281\n",
      "Epoch 8/8\n",
      "219/219 [==============================] - 8s 37ms/step - loss: 0.0379 - last_time_step_mse: 0.0262 - val_loss: 0.0366 - val_last_time_step_mse: 0.0245\n"
     ]
    }
   ],
   "source": [
    "np.random.seed(42)\n",
    "tf.random.set_seed(42)\n",
    "\n",
    "# Para usar esta celda personalizada, todo lo que necesitamos hacer es crear\n",
    "# una capa keras.layers.RNN, pasándole una instancia de celda:\n",
    "model = keras.models.Sequential([\n",
    "    keras.layers.RNN(LNSimpleRNNCell(20), return_sequences=True,\n",
    "                     input_shape=[None, 1]),\n",
    "    keras.layers.RNN(LNSimpleRNNCell(20), return_sequences=True),\n",
    "    keras.layers.TimeDistributed(keras.layers.Dense(10))\n",
    "])\n",
    "\n",
    "\n",
    "def last_time_step_mse(Y_true, Y_pred):\n",
    "    return keras.metrics.mean_squared_error(Y_true[:, -1], Y_pred[:, -1])\n",
    "\n",
    "\n",
    "model.compile(loss=\"mse\", optimizer=\"adam\", metrics=[last_time_step_mse])\n",
    "history = model.fit(X_train, Y_train, epochs=8,\n",
    "                    validation_data=(X_valid, Y_valid))\n"
   ]
  },
  {
   "attachments": {},
   "cell_type": "markdown",
   "metadata": {},
   "source": [
    "## Dropout \n",
    "\n",
    "Similarly, you could create a custom cell to apply dropout between each\n",
    "time step. But there’s a simpler way: all recurrent layers (except for\n",
    "keras.layers.RNN) and all cells provided by Keras have a dropout\n",
    "hyperparameter and a recurrent_dropout hyperparameter: the former\n",
    "defines the dropout rate to apply to the inputs (at each time step), and the\n",
    "latter defines the dropout rate for the hidden states (also at each time step).\n",
    "No need to create a custom cell to apply dropout at each time step in an\n",
    "RNN.\n",
    "\n"
   ]
  },
  {
   "attachments": {},
   "cell_type": "markdown",
   "metadata": {},
   "source": [
    "## **Long-Short Term Memory (LSTM )**"
   ]
  },
  {
   "cell_type": "code",
   "execution_count": 12,
   "metadata": {},
   "outputs": [
    {
     "name": "stdout",
     "output_type": "stream",
     "text": [
      "Epoch 1/8\n",
      "219/219 [==============================] - 12s 39ms/step - loss: 0.0786 - last_time_step_mse: 0.0639 - val_loss: 0.0556 - val_last_time_step_mse: 0.0360\n",
      "Epoch 2/8\n",
      "219/219 [==============================] - 8s 36ms/step - loss: 0.0471 - last_time_step_mse: 0.0260 - val_loss: 0.0406 - val_last_time_step_mse: 0.0181\n",
      "Epoch 3/8\n",
      "219/219 [==============================] - 8s 36ms/step - loss: 0.0375 - last_time_step_mse: 0.0161 - val_loss: 0.0357 - val_last_time_step_mse: 0.0150\n",
      "Epoch 4/8\n",
      "219/219 [==============================] - 8s 35ms/step - loss: 0.0339 - last_time_step_mse: 0.0139 - val_loss: 0.0325 - val_last_time_step_mse: 0.0128\n",
      "Epoch 5/8\n",
      "219/219 [==============================] - 7s 34ms/step - loss: 0.0318 - last_time_step_mse: 0.0127 - val_loss: 0.0309 - val_last_time_step_mse: 0.0126\n",
      "Epoch 6/8\n",
      "219/219 [==============================] - 7s 34ms/step - loss: 0.0302 - last_time_step_mse: 0.0118 - val_loss: 0.0294 - val_last_time_step_mse: 0.0109\n",
      "Epoch 7/8\n",
      "219/219 [==============================] - 9s 42ms/step - loss: 0.0291 - last_time_step_mse: 0.0111 - val_loss: 0.0285 - val_last_time_step_mse: 0.0112\n",
      "Epoch 8/8\n",
      "219/219 [==============================] - 8s 36ms/step - loss: 0.0282 - last_time_step_mse: 0.0105 - val_loss: 0.0278 - val_last_time_step_mse: 0.0101\n"
     ]
    }
   ],
   "source": [
    "# Alternativamente, podría usar la keras.layers.RNN de propósito general, con un LSTM como argumento\n",
    "# Sin embargo, la capa LSTM usa una implementación optimizada cuando se ejecuta en una GPU\n",
    "\n",
    "np.random.seed(42)\n",
    "tf.random.set_seed(42)\n",
    "\n",
    "model = keras.models.Sequential([\n",
    "    keras.layers.LSTM(20, return_sequences=True, input_shape=[None, 1]),\n",
    "    keras.layers.LSTM(20, return_sequences=True),\n",
    "    keras.layers.TimeDistributed(keras.layers.Dense(10))\n",
    "])\n",
    "\n",
    "model.compile(loss=\"mse\", optimizer=\"adam\", metrics=[last_time_step_mse])\n",
    "history = model.fit(X_train, Y_train, epochs=8,\n",
    "                    validation_data=(X_valid, Y_valid))\n"
   ]
  },
  {
   "cell_type": "code",
   "execution_count": 13,
   "metadata": {},
   "outputs": [
    {
     "name": "stdout",
     "output_type": "stream",
     "text": [
      "1/1 [==============================] - 1s 1s/step\n"
     ]
    },
    {
     "data": {
      "image/png": "[encoded data removed]",
      "text/plain": [
       "<Figure size 432x288 with 1 Axes>"
      ]
     },
     "metadata": {
      "needs_background": "light"
     },
     "output_type": "display_data"
    }
   ],
   "source": [
    "np.random.seed(43)\n",
    "\n",
    "\n",
    "series = generate_time_series(1, 50 + 10)\n",
    "X_new, Y_new = series[:, :50, :], series[:, 50:, :]\n",
    "Y_pred = model.predict(X_new)[:, -1][..., np.newaxis]\n",
    "plot_multiple_forecasts(X_new, Y_new, Y_pred)\n",
    "plt.title(\"Using  LSTM\")\n",
    "plt.show()\n"
   ]
  },
  {
   "attachments": {},
   "cell_type": "markdown",
   "metadata": {},
   "source": [
    "## Gated Recurrent Unit GRU"
   ]
  },
  {
   "cell_type": "code",
   "execution_count": 14,
   "metadata": {},
   "outputs": [
    {
     "name": "stdout",
     "output_type": "stream",
     "text": [
      "Epoch 1/8\n",
      "219/219 [==============================] - 18s 48ms/step - loss: 0.0751 - last_time_step_mse: 0.0664 - val_loss: 0.0548 - val_last_time_step_mse: 0.0443\n",
      "Epoch 2/8\n",
      "219/219 [==============================] - 9s 40ms/step - loss: 0.0491 - last_time_step_mse: 0.0388 - val_loss: 0.0453 - val_last_time_step_mse: 0.0347\n",
      "Epoch 3/8\n",
      "219/219 [==============================] - 9s 39ms/step - loss: 0.0437 - last_time_step_mse: 0.0330 - val_loss: 0.0422 - val_last_time_step_mse: 0.0315\n",
      "Epoch 4/8\n",
      "219/219 [==============================] - 9s 39ms/step - loss: 0.0406 - last_time_step_mse: 0.0296 - val_loss: 0.0388 - val_last_time_step_mse: 0.0284\n",
      "Epoch 5/8\n",
      "219/219 [==============================] - 9s 39ms/step - loss: 0.0375 - last_time_step_mse: 0.0267 - val_loss: 0.0360 - val_last_time_step_mse: 0.0248\n",
      "Epoch 6/8\n",
      "219/219 [==============================] - 9s 41ms/step - loss: 0.0345 - last_time_step_mse: 0.0233 - val_loss: 0.0328 - val_last_time_step_mse: 0.0193\n",
      "Epoch 7/8\n",
      "219/219 [==============================] - 8s 38ms/step - loss: 0.0314 - last_time_step_mse: 0.0181 - val_loss: 0.0302 - val_last_time_step_mse: 0.0175\n",
      "Epoch 8/8\n",
      "219/219 [==============================] - 8s 38ms/step - loss: 0.0290 - last_time_step_mse: 0.0143 - val_loss: 0.0279 - val_last_time_step_mse: 0.0128\n"
     ]
    }
   ],
   "source": [
    "np.random.seed(42)\n",
    "tf.random.set_seed(42)\n",
    "\n",
    "model = keras.models.Sequential([\n",
    "    keras.layers.GRU(20, return_sequences=True, input_shape=[None, 1]),\n",
    "    keras.layers.GRU(20, return_sequences=True),\n",
    "    keras.layers.TimeDistributed(keras.layers.Dense(10))\n",
    "])\n",
    "\n",
    "model.compile(loss=\"mse\", optimizer=\"adam\", metrics=[last_time_step_mse])\n",
    "history = model.fit(X_train, Y_train, epochs=8,\n",
    "                    validation_data=(X_valid, Y_valid))\n"
   ]
  },
  {
   "cell_type": "code",
   "execution_count": 18,
   "metadata": {},
   "outputs": [
    {
     "name": "stdout",
     "output_type": "stream",
     "text": [
      "1/1 [==============================] - 0s 36ms/step\n"
     ]
    },
    {
     "data": {
      "image/png": "[encoded data removed]",
      "text/plain": [
       "<Figure size 432x288 with 1 Axes>"
      ]
     },
     "metadata": {
      "needs_background": "light"
     },
     "output_type": "display_data"
    }
   ],
   "source": [
    "np.random.seed(43)\n",
    "\n",
    "series = generate_time_series(1, 50 + 10)\n",
    "X_new, Y_new = series[:, :50, :], series[:, 50:, :]\n",
    "Y_pred = model.predict(X_new)[:, -1][..., np.newaxis]\n",
    "plot_multiple_forecasts(X_new, Y_new, Y_pred)\n",
    "plt.title(\"Using  GRU\")\n",
    "plt.show()\n"
   ]
  },
  {
   "attachments": {},
   "cell_type": "markdown",
   "metadata": {},
   "source": [
    "## Using One-Dimensional Convolutional Layers to Process Sequences"
   ]
  },
  {
   "attachments": {},
   "cell_type": "markdown",
   "metadata": {},
   "source": [
    "```\n",
    "1D conv layer with kernel size 4, stride 2, VALID padding:\n",
    "\n",
    "              |-----2-----|     |-----5---...------|     |-----23----|\n",
    "        |-----1-----|     |-----4-----|   ...      |-----22----|\n",
    "  |-----0----|      |-----3-----|     |---...|-----21----|\n",
    "X: 0  1  2  3  4  5  6  7  8  9  10 11 12 ... 42 43 44 45 46 47 48 49\n",
    "Y: 1  2  3  4  5  6  7  8  9  10 11 12 13 ... 43 44 45 46 47 48 49 50\n",
    "  /10 11 12 13 14 15 16 17 18 19 20 21 22 ... 52 53 54 55 56 57 58 59\n",
    "\n",
    "Output:\n",
    "\n",
    "X:     0/3   2/5   4/7   6/9   8/11 10/13 .../43 42/45 44/47 46/49\n",
    "Y:     4/13  6/15  8/17 10/19 12/21 14/23 .../53 46/55 48/57 50/59\n",
    "```\n",
    "\n",
    "Es decir que en este caso, debemos recortar los primeros tres pasos de tiempo en los\n",
    "**target** (dado que el tamaño del kernel es 4, la primera salida de la capa\n",
    "convolucional se basará en los pasos de tiempo de entrada de 0 a 3), y reducir la\n",
    "cantidad de sequencias de salida en un factor 2 lo que se logra :\n",
    "```python\n",
    "Target[:, 3::2]\n",
    "```"
   ]
  },
  {
   "cell_type": "code",
   "execution_count": 19,
   "metadata": {},
   "outputs": [
    {
     "name": "stdout",
     "output_type": "stream",
     "text": [
      "Epoch 1/8\n",
      "219/219 [==============================] - 13s 28ms/step - loss: 0.0686 - last_time_step_mse: 0.0600 - val_loss: 0.0447 - val_last_time_step_mse: 0.0359\n",
      "Epoch 2/8\n",
      "219/219 [==============================] - 5s 21ms/step - loss: 0.0381 - last_time_step_mse: 0.0299 - val_loss: 0.0334 - val_last_time_step_mse: 0.0242\n",
      "Epoch 3/8\n",
      "219/219 [==============================] - 5s 21ms/step - loss: 0.0311 - last_time_step_mse: 0.0219 - val_loss: 0.0292 - val_last_time_step_mse: 0.0192\n",
      "Epoch 4/8\n",
      "219/219 [==============================] - 5s 23ms/step - loss: 0.0274 - last_time_step_mse: 0.0172 - val_loss: 0.0260 - val_last_time_step_mse: 0.0156\n",
      "Epoch 5/8\n",
      "219/219 [==============================] - 5s 22ms/step - loss: 0.0253 - last_time_step_mse: 0.0146 - val_loss: 0.0246 - val_last_time_step_mse: 0.0138\n",
      "Epoch 6/8\n",
      "219/219 [==============================] - 5s 23ms/step - loss: 0.0239 - last_time_step_mse: 0.0128 - val_loss: 0.0231 - val_last_time_step_mse: 0.0117\n",
      "Epoch 7/8\n",
      "219/219 [==============================] - 5s 23ms/step - loss: 0.0230 - last_time_step_mse: 0.0118 - val_loss: 0.0235 - val_last_time_step_mse: 0.0125\n",
      "Epoch 8/8\n",
      "219/219 [==============================] - 5s 21ms/step - loss: 0.0223 - last_time_step_mse: 0.0111 - val_loss: 0.0219 - val_last_time_step_mse: 0.0105\n"
     ]
    }
   ],
   "source": [
    "np.random.seed(42)\n",
    "tf.random.set_seed(42)\n",
    "\n",
    "model = keras.models.Sequential([\n",
    "    keras.layers.Conv1D(filters=20, kernel_size=4, strides=2, padding=\"valid\",\n",
    "                        input_shape=[None, 1]),\n",
    "    keras.layers.GRU(20, return_sequences=True),\n",
    "    keras.layers.GRU(20, return_sequences=True),\n",
    "    keras.layers.TimeDistributed(keras.layers.Dense(10))\n",
    "])\n",
    "\n",
    "model.compile(loss=\"mse\", optimizer=\"adam\", metrics=[last_time_step_mse])\n",
    "history = model.fit(X_train, Y_train[:, 3::2], epochs=8,\n",
    "                    validation_data=(X_valid, Y_valid[:, 3::2]))\n"
   ]
  },
  {
   "attachments": {},
   "cell_type": "markdown",
   "metadata": {},
   "source": [
    "## WaveNet"
   ]
  },
  {
   "attachments": {},
   "cell_type": "markdown",
   "metadata": {},
   "source": [
    "```\n",
    "C2  /\\ /\\ /\\ /\\ /\\ /\\ /\\ /\\ /\\ /\\ /\\ /\\ /\\.../\\ /\\ /\\ /\\ /\\ /\\\n",
    "   \\  /  \\  /  \\  /  \\  /  \\  /  \\  /  \\       /  \\  /  \\  /  \\\n",
    "     /    \\      /    \\      /    \\                 /    \\\n",
    "C1  /\\ /\\ /\\ /\\ /\\ /\\ /\\ /\\ /\\ /\\ /\\  /\\ /.../\\ /\\ /\\ /\\ /\\ /\\ /\\\n",
    "X: 0  1  2  3  4  5  6  7  8  9  10 11 12 ... 43 44 45 46 47 48 49\n",
    "Y: 1  2  3  4  5  6  7  8  9  10 11 12 13 ... 44 45 46 47 48 49 50\n",
    "  /10 11 12 13 14 15 16 17 18 19 20 21 22 ... 53 54 55 56 57 58 59\n",
    "```"
   ]
  },
  {
   "cell_type": "code",
   "execution_count": 21,
   "metadata": {},
   "outputs": [
    {
     "name": "stdout",
     "output_type": "stream",
     "text": [
      "Epoch 1/8\n",
      "219/219 [==============================] - 10s 30ms/step - loss: 0.0621 - last_time_step_mse: 0.0492 - val_loss: 0.0360 - val_last_time_step_mse: 0.0217\n",
      "Epoch 2/8\n",
      "219/219 [==============================] - 5s 22ms/step - loss: 0.0331 - last_time_step_mse: 0.0201 - val_loss: 0.0305 - val_last_time_step_mse: 0.0175\n",
      "Epoch 3/8\n",
      "219/219 [==============================] - 4s 19ms/step - loss: 0.0293 - last_time_step_mse: 0.0170 - val_loss: 0.0281 - val_last_time_step_mse: 0.0157\n",
      "Epoch 4/8\n",
      "219/219 [==============================] - 4s 20ms/step - loss: 0.0270 - last_time_step_mse: 0.0149 - val_loss: 0.0262 - val_last_time_step_mse: 0.0143\n",
      "Epoch 5/8\n",
      "219/219 [==============================] - 5s 22ms/step - loss: 0.0254 - last_time_step_mse: 0.0136 - val_loss: 0.0249 - val_last_time_step_mse: 0.0132\n",
      "Epoch 6/8\n",
      "219/219 [==============================] - 4s 20ms/step - loss: 0.0243 - last_time_step_mse: 0.0125 - val_loss: 0.0236 - val_last_time_step_mse: 0.0117\n",
      "Epoch 7/8\n",
      "219/219 [==============================] - 4s 20ms/step - loss: 0.0236 - last_time_step_mse: 0.0119 - val_loss: 0.0233 - val_last_time_step_mse: 0.0116\n",
      "Epoch 8/8\n",
      "219/219 [==============================] - 5s 22ms/step - loss: 0.0229 - last_time_step_mse: 0.0111 - val_loss: 0.0225 - val_last_time_step_mse: 0.0105\n"
     ]
    }
   ],
   "source": [
    "np.random.seed(42)\n",
    "tf.random.set_seed(42)\n",
    "\n",
    "model = keras.models.Sequential()\n",
    "\n",
    "# una capa de entrada explícita (esto es más simple q de establecer input_shape en la 1ra capa)\n",
    "model.add(keras.layers.InputLayer(input_shape=[None, 1]))\n",
    "\n",
    "# agregar pares de capas similares usando tasas de dilatación\n",
    "# crecientes: 1, 2, 4, 8 y nuevamente 1, 2, 4, 8.\n",
    "for rate in (1, 2, 4, 8) * 2:  # el *2 es para apilar dos tipos de capas\n",
    "\n",
    "    # padding= \"causal\": equivalente a rellenar las entradas con la cantidad\n",
    "    # correcta de ceros a la izquierda y usar relleno \"valid\"\n",
    "\n",
    "    model.add(keras.layers.Conv1D(filters=20, kernel_size=2, padding=\"causal\",\n",
    "                                  activation=\"relu\", dilation_rate=rate))\n",
    "\n",
    "# Finalmente, agregamos la capa de salida: una capa convolucional con 10 filtros de tamaño 1\n",
    "# y sin función de activación\n",
    "model.add(keras.layers.Conv1D(filters=10, kernel_size=1))\n",
    "\n",
    "model.compile(loss=\"mse\", optimizer=\"adam\", metrics=[last_time_step_mse])\n",
    "history = model.fit(X_train, Y_train, epochs=8,\n",
    "                    validation_data=(X_valid, Y_valid))\n"
   ]
  },
  {
   "attachments": {},
   "cell_type": "markdown",
   "metadata": {},
   "source": [
    "Here is the original WaveNet defined in the paper: it uses` Gated Activation Units` instead of ReLU and parametrized skip connections, plus it pads with zeros on the left to avoid getting shorter and shorter sequences:\n",
    "\n",
    "**Gated Activation Units (GAUs)** es una técnica de aprendizaje profundo que se utiliza para mejorar la representación de las características en las redes neuronales. En GAUs, la entrada se divide en dos partes: una parte que se procesa directamente a través de una función de activación, y una parte que se procesa a través de una compuerta. La compuerta se utiliza para controlar la influencia de la entrada en la activación de la neurona, permitiendo que la red pueda enfocarse en características específicas de la entrada."
   ]
  },
  {
   "cell_type": "code",
   "execution_count": 29,
   "metadata": {},
   "outputs": [],
   "source": [
    "class GatedActivationUnit(keras.layers.Layer):\n",
    "    def __init__(self, activation=\"tanh\", **kwargs):\n",
    "        super().__init__(**kwargs)\n",
    "        self.activation = keras.activations.get(activation)\n",
    "\n",
    "    def call(self, inputs):\n",
    "        n_filters = inputs.shape[-1] // 2\n",
    "        linear_output = self.activation(inputs[..., :n_filters])\n",
    "        gate = keras.activations.sigmoid(inputs[..., n_filters:])\n",
    "        return self.activation(linear_output) * gate\n"
   ]
  },
  {
   "cell_type": "code",
   "execution_count": 27,
   "metadata": {},
   "outputs": [],
   "source": [
    "def wavenet_residual_block(inputs, n_filters, dilation_rate):\n",
    "    z = keras.layers.Conv1D(2 * n_filters, kernel_size=2, padding=\"causal\",\n",
    "                            dilation_rate=dilation_rate)(inputs)\n",
    "    z = GatedActivationUnit()(z)\n",
    "    z = keras.layers.Conv1D(n_filters, kernel_size=1)(z)\n",
    "    return keras.layers.Add()([z, inputs]), z\n"
   ]
  },
  {
   "cell_type": "code",
   "execution_count": 30,
   "metadata": {},
   "outputs": [],
   "source": [
    "keras.backend.clear_session()\n",
    "np.random.seed(42)\n",
    "tf.random.set_seed(42)\n",
    "\n",
    "n_layers_per_block = 3  # 10 in the paper\n",
    "n_blocks = 1  # 3 in the paper\n",
    "n_filters = 32  # 128 in the paper\n",
    "n_outputs = 10  # 256 in the paper\n",
    "\n",
    "inputs = keras.layers.Input(shape=[None, 1])\n",
    "z = keras.layers.Conv1D(n_filters, kernel_size=2, padding=\"causal\")(inputs)\n",
    "skip_to_last = []\n",
    "for dilation_rate in [2**i for i in range(n_layers_per_block)] * n_blocks:\n",
    "    z, skip = wavenet_residual_block(z, n_filters, dilation_rate)\n",
    "    skip_to_last.append(skip)\n",
    "z = keras.activations.relu(keras.layers.Add()(skip_to_last))\n",
    "z = keras.layers.Conv1D(n_filters, kernel_size=1, activation=\"relu\")(z)\n",
    "Y_proba = keras.layers.Conv1D(n_outputs, kernel_size=1, activation=\"softmax\")(z)\n",
    "\n",
    "model = keras.models.Model(inputs=[inputs], outputs=[Y_proba])\n"
   ]
  },
  {
   "cell_type": "code",
   "execution_count": 31,
   "metadata": {},
   "outputs": [
    {
     "name": "stdout",
     "output_type": "stream",
     "text": [
      "Epoch 1/2\n",
      "219/219 [==============================] - 9s 31ms/step - loss: 0.1288 - last_time_step_mse: 0.1247 - val_loss: 0.1225 - val_last_time_step_mse: 0.1195\n",
      "Epoch 2/2\n",
      "219/219 [==============================] - 5s 24ms/step - loss: 0.1220 - last_time_step_mse: 0.1176 - val_loss: 0.1216 - val_last_time_step_mse: 0.1188\n"
     ]
    }
   ],
   "source": [
    "model.compile(loss=\"mse\", optimizer=\"adam\", metrics=[last_time_step_mse])\n",
    "history = model.fit(X_train, Y_train, epochs=2,\n",
    "                    validation_data=(X_valid, Y_valid))\n"
   ]
  }
 ],
 "metadata": {
  "kernelspec": {
   "display_name": "Python 3",
   "language": "python",
   "name": "python3"
  },
  "language_info": {
   "codemirror_mode": {
    "name": "ipython",
    "version": 3
   },
   "file_extension": ".py",
   "mimetype": "text/x-python",
   "name": "python",
   "nbconvert_exporter": "python",
   "pygments_lexer": "ipython3",
   "version": "3.10.4"
  },
  "orig_nbformat": 4
 },
 "nbformat": 4,
 "nbformat_minor": 2
}
